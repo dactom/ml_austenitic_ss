{
 "cells": [
  {
   "cell_type": "code",
   "execution_count": 1,
   "metadata": {},
   "outputs": [],
   "source": [
    "import pandas as pd\n",
    "import numpy as np\n",
    "import matplotlib.pyplot as plt\n",
    "import matplotlib_inline\n",
    "matplotlib_inline.backend_inline.set_matplotlib_formats('svg')\n",
    "from pickle import load\n",
    "\n",
    "\n",
    "#4pytorch\n",
    "import torch\n",
    "import torch.nn as nn\n",
    "import torch.nn.functional as F"
   ]
  },
  {
   "cell_type": "code",
   "execution_count": 2,
   "metadata": {},
   "outputs": [],
   "source": [
    "\n",
    "#Load scaler\n",
    "scaler = load(open('scaler.pkl', 'rb'))\n"
   ]
  },
  {
   "cell_type": "code",
   "execution_count": 3,
   "metadata": {},
   "outputs": [],
   "source": [
    "#Create model\n",
    "\n",
    "class class_model(nn.Module):\n",
    "    def __init__(self):\n",
    "        super().__init__()\n",
    "\n",
    "        #input layer\n",
    "        self.input = nn.Linear(3,32)\n",
    "\n",
    "\n",
    "        # hidden layer\n",
    "        self.hidden1 = nn.Linear(32,32)\n",
    "\n",
    "        # hidden layer\n",
    "        # self.hidden2 = nn.Linear(64,64)\n",
    "\n",
    "        #output layer\n",
    "        self.output = nn.Linear(32,4)\n",
    "\n",
    "        #Softmax\n",
    "        self.act_output = nn.Softmax(dim=1)\n",
    "\n",
    "    #forwards\n",
    "    def forward(self,x):\n",
    "        x = F.relu(self.input(x))\n",
    "        x = F.relu(self.hidden1(x))\n",
    "        # x = F.relu(self.hidden2(x))\n",
    "        x = self.output(x)\n",
    "        x = self.act_output(x)\n",
    "        return x\n",
    "\n",
    "model = class_model()\n"
   ]
  },
  {
   "cell_type": "code",
   "execution_count": 4,
   "metadata": {},
   "outputs": [
    {
     "data": {
      "text/plain": [
       "class_model(\n",
       "  (input): Linear(in_features=3, out_features=32, bias=True)\n",
       "  (hidden1): Linear(in_features=32, out_features=32, bias=True)\n",
       "  (output): Linear(in_features=32, out_features=4, bias=True)\n",
       "  (act_output): Softmax(dim=1)\n",
       ")"
      ]
     },
     "execution_count": 4,
     "metadata": {},
     "output_type": "execute_result"
    }
   ],
   "source": [
    "#Import model\n",
    "loaded_model = model\n",
    "loaded_model.load_state_dict(torch.load('aus_ss.pt'))\n",
    "loaded_model.eval()\n"
   ]
  },
  {
   "cell_type": "code",
   "execution_count": 11,
   "metadata": {},
   "outputs": [
    {
     "name": "stdout",
     "output_type": "stream",
     "text": [
      "Material was tested at 700C\n",
      "\n",
      "   YS(MPa)  UTS(MPa)  El(%)\n",
      "0      150       300     35\n"
     ]
    }
   ],
   "source": [
    "#Prediction\n",
    "X_test_new = pd.DataFrame({'YS(MPa)':[150], 'UTS(MPa)':[300], 'El(%)':[35]}) \n",
    "X_test = scaler.transform(X_test_new)\n",
    "test_RT = torch.tensor(X_test).float()\n",
    "output = loaded_model(test_RT)\n",
    "\n",
    "if torch.argmax(output, dim=1) == 0:\n",
    "     print( 'Material was tested at RT' )\n",
    "elif torch.argmax(output, dim=1) == 1: \n",
    "     print( 'Material was tested at 100C' )\n",
    "elif torch.argmax(output, dim=1) == 2:\n",
    "     print( 'Material was tested at 500C' )\n",
    "elif torch.argmax(output, dim=1) == 3:\n",
    "     print( 'Material was tested at 700C' )\n",
    "\n",
    "print()\n",
    "print(X_test_new )\n"
   ]
  }
 ],
 "metadata": {
  "kernelspec": {
   "display_name": "ml",
   "language": "python",
   "name": "python3"
  },
  "language_info": {
   "codemirror_mode": {
    "name": "ipython",
    "version": 3
   },
   "file_extension": ".py",
   "mimetype": "text/x-python",
   "name": "python",
   "nbconvert_exporter": "python",
   "pygments_lexer": "ipython3",
   "version": "3.10.12"
  },
  "orig_nbformat": 4
 },
 "nbformat": 4,
 "nbformat_minor": 2
}
